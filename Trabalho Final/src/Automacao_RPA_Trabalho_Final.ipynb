{
 "cells": [
  {
   "cell_type": "markdown",
   "id": "3119eece",
   "metadata": {},
   "source": [
    "### Trabalho Final\n",
    "***\n",
    "- 1606881 | Bruna Mirele Martins da Silveira\n",
    "- 1606894 | Caio Wey Barros\n",
    "- 1606966 | Gustavo Matheus Santos Penedo\n",
    "***\n",
    "\n",
    "#### Objetivos de Ensino\n",
    "\n",
    "#### Exercitar os seguintes conceitos:\n",
    "1. Coleta de dados\n",
    "2. Analisar e explorar os conjuntos de dados\n",
    "3. Analisar e realizar tratamento de dados se necessário\n",
    "4. Realizar agrupamentos de dados\n",
    "5. Analisar resultados obtidos\n",
    "6. Responder as questões objetivas\n",
    "\n",
    "#### Enunciado da Atividade Prática: Análise de Dados\n",
    "\n",
    "Você foi contratado para criar uma automação de fluxo de dados completa para dados clínicos dos pacientes em um projeto de pesquisa de saúde. Seus dados incluem três conjuntos principais: dados_clinicos, dados_pacientes e dados_estados. Cada conjunto de dados possui as seguintes colunas:\n",
    "1. **dados_clinicos**: contém informações sobre os pacientes como id_cliente, peso, colesterol e ganero.\n",
    "2. **dados_pacientes**: fornece detalhes sobre os pacientes como id_cliente, idade, classe_trabalho, escolaridade, id_estado, estado_civil, raca, qtde_filhos e salario.\n",
    "3. **dados_estados**: oferece informações sobre os estados, incluindo id_estado, sigla, estado, regiao e pais.\n",
    "\n",
    "Os datasets utilizados no trabalho podem ser obtidos nesse [link](https://leandrolessa.com.br/wp-content/uploads/2024/06/dados_clinicos_pacientes.zip).\n",
    "\n",
    "#### Tarefas:"
   ]
  },
  {
   "cell_type": "code",
   "execution_count": null,
   "id": "28b6a911",
   "metadata": {},
   "outputs": [
    {
     "data": {
      "text/plain": [
       "True"
      ]
     },
     "execution_count": 5,
     "metadata": {},
     "output_type": "execute_result"
    }
   ],
   "source": [
    "# Bibliotecas\n",
    "import pandas as pd\n",
    "import os\n",
    "from sqlalchemy import create_engine, text\n",
    "from dotenv import load_dotenv\n",
    "load_dotenv('../config/.env')"
   ]
  },
  {
   "cell_type": "markdown",
   "id": "113a3513",
   "metadata": {},
   "source": [
    "**1. Coleta de Dados**\n",
    "\n",
    "Realize a coleta de dados dos pacientes disponibilizados."
   ]
  },
  {
   "cell_type": "code",
   "execution_count": null,
   "id": "f422515b",
   "metadata": {},
   "outputs": [],
   "source": [
    "# Insira o código aqui"
   ]
  },
  {
   "cell_type": "markdown",
   "id": "659e844c",
   "metadata": {},
   "source": [
    "**2. Integração dos Dados**\n",
    "\n",
    "Realize um inner join entre dados_clinicos, dados_pacientes e dados_estados para obter uma visão completa dos dados dos pacientes."
   ]
  },
  {
   "cell_type": "code",
   "execution_count": 1,
   "id": "64d7170c",
   "metadata": {},
   "outputs": [],
   "source": [
    "# Insira o código aqui"
   ]
  },
  {
   "cell_type": "markdown",
   "id": "246b77c0",
   "metadata": {},
   "source": [
    "**3. Correção dos Dados**\n",
    "\n",
    "Identifique e corrija dados inconsistentes, como valores ausentes, duplicados ou incorretos."
   ]
  },
  {
   "cell_type": "code",
   "execution_count": 2,
   "id": "a816e738",
   "metadata": {},
   "outputs": [],
   "source": [
    "# Insira o código aqui"
   ]
  },
  {
   "cell_type": "markdown",
   "id": "e9a3c4c4",
   "metadata": {},
   "source": [
    "**4. Armazenamento de Dados**\n",
    "\n",
    "Desenvolva o diagrama de entidade-relacionamento entre as tabelas e persista os dados no banco de dados MySQL."
   ]
  },
  {
   "cell_type": "code",
   "execution_count": null,
   "id": "47a2cb23",
   "metadata": {},
   "outputs": [
    {
     "name": "stdout",
     "output_type": "stream",
     "text": [
      "Conexão realizada com sucesso!\n",
      "Banco de dados criado com sucesso!\n",
      "Tabelas criadas com sucesso!\n"
     ]
    }
   ],
   "source": [
    "# Conexão com o banco de dados\n",
    "def conectar_banco_mysql():\n",
    "    try:\n",
    "        user = os.environ['user_db']\n",
    "        password = os.environ['password_db']\n",
    "        host = os.environ['host']\n",
    "        conexao = f'mysql://{user}:{password}@{host}'\n",
    "        engine = create_engine(conexao)\n",
    "        conn = engine.connect()\n",
    "        print('Conexão realizada com sucesso!')\n",
    "        return conn\n",
    "    except Exception as e:\n",
    "        print(f'Não foi possível fazer conexão com o banco de dados. ERRO: {e}')\n",
    "\n",
    "# Validação da conexão com o servidor de banco de dados\n",
    "conn = conectar_banco_mysql()\n",
    "\n",
    "# Criação do banco de dados\n",
    "try:\n",
    "    database = 'pacientes'\n",
    "    query = f'create schema if not exists {database}'\n",
    "    conn.execute(text(query))\n",
    "    print('Banco de dados criado com sucesso!')\n",
    "    conn.commit()\n",
    "except Exception as e:\n",
    "    print(f'Não foi possível criar o banco de dados. ERRO: {e}')\n",
    "\n",
    "# Execução do script de criação das tabelas e seus relacionamentos\n",
    "with open('../script_DB/create_database_paciente.sql', 'r') as file:\n",
    "    query = file.read()\n",
    "\n",
    "    try:\n",
    "        conn.execute(text(query))\n",
    "        print('Tabelas criadas com sucesso!')\n",
    "        conn.commit()\n",
    "    except Exception as e:\n",
    "        print(f'Não foi possível criar as tabelas. ERRO: {e}')\n",
    "\n",
    "# Inserção de registros no banco de dados\n",
    "def inserir_dados_tabelas(lista_dados, nome_tabela):\n",
    "    coluna_tabela = nome_tabela[3:]\n",
    "\n",
    "    for registro in lista_dados:\n",
    "        try:\n",
    "            query = f'''\n",
    "                INSERT INTO {nome_tabela} ({coluna_tabela})\n",
    "                VALUES ('{registro}')\n",
    "            '''\n",
    "            conn.execute(text(query))\n",
    "            conn.commit()\n",
    "            print(f'Registro inserido com sucesso: {registro}')\n",
    "        except Exception as e:\n",
    "            print(f'Não foi possível inserir o registro: {registro}. ERRO: {e}')\n",
    "            conn.rollback()"
   ]
  },
  {
   "cell_type": "markdown",
   "id": "68d132a4",
   "metadata": {},
   "source": [
    "**5. Consultas SQL**\n",
    "\n",
    "Após o armazenamento dos dados, responda às perguntas do questionário utilizando SQL."
   ]
  },
  {
   "cell_type": "code",
   "execution_count": 4,
   "id": "de25d18f",
   "metadata": {},
   "outputs": [],
   "source": [
    "# Insira o código aqui"
   ]
  },
  {
   "cell_type": "markdown",
   "id": "a6eb06c7",
   "metadata": {},
   "source": [
    "#### **ATENÇÃO PARA TRATAMENTO DE DADOS**\n",
    "\n",
    "Avaliem se será necessário realizar tratamento de dados ausentes nos datasets disponibilizados.\n",
    "\n",
    "**Instruções para correção de dados ausentes**\n",
    "\n",
    "- Moda para Variáveis Categóricas: Preencher valores ausentes nas colunas categóricas com a moda.\n",
    "- Mediana para Variáveis Numéricas: Preencher valores ausentes nas colunas numéricas com a mediana.\n",
    "\n",
    "#### Utilize o diagrama de entidade e relacionamento\n",
    "\n",
    "![Diagrama de entidade e relacionamento](../doc/Diagrama%20de%20Entidade%20e%20Relacionamento.png)\n",
    "\n",
    "#### Dicas do professor:\n",
    "\n",
    "1. Antes de finalizar suas respostas, certifique-se de verificar se o gabarito está corretamente preenchido.\n",
    "2. Preste atenção aos requisitos específicos de cada questão para garantir uma resposta adequada.\n",
    "3. Elimine dados duplicados.\n",
    "4. Lembre-se de que os dados fornecidos nos datasets são fictícios e não refletem dados do mundo real.\n",
    "5. Siga rigorosamente todas as etapas descritas no enunciado das questões para uma análise completa e precisa."
   ]
  },
  {
   "cell_type": "markdown",
   "id": "bb7b43b3",
   "metadata": {},
   "source": [
    "#### Perguntas do Trabalho"
   ]
  },
  {
   "cell_type": "markdown",
   "id": "aea4e686",
   "metadata": {},
   "source": [
    "**1. Qual é a média e o desvio padrão do colesterol das pessoas que têm peso superior a 120kg e residem na região Sul do Brasil?**"
   ]
  },
  {
   "cell_type": "code",
   "execution_count": null,
   "id": "101ae8d7",
   "metadata": {},
   "outputs": [],
   "source": [
    "# Insira o código aqui"
   ]
  },
  {
   "cell_type": "markdown",
   "id": "e5e8b681",
   "metadata": {},
   "source": [
    "**2. Qual é a classe de trabalho com maior número de pessoas e qual é o número correspondente na base de dados?**"
   ]
  },
  {
   "cell_type": "code",
   "execution_count": null,
   "id": "a3037d0e",
   "metadata": {},
   "outputs": [],
   "source": [
    "# Insira o código aqui"
   ]
  },
  {
   "cell_type": "markdown",
   "id": "ce1365ac",
   "metadata": {},
   "source": [
    "**3. Qual é a classe de trabalho que apresenta a maior média de salários e qual é o valor associado para as pessoas do estado de Pernambuco?**"
   ]
  },
  {
   "cell_type": "code",
   "execution_count": null,
   "id": "d27ca032",
   "metadata": {},
   "outputs": [],
   "source": [
    "# Insira o código aqui"
   ]
  },
  {
   "cell_type": "markdown",
   "id": "0725d31c",
   "metadata": {},
   "source": [
    "**4. Qual estado civil possui a menor quantidade de filhos e qual é esse número?**"
   ]
  },
  {
   "cell_type": "code",
   "execution_count": null,
   "id": "71e89047",
   "metadata": {},
   "outputs": [],
   "source": [
    "# Insira o código aqui"
   ]
  },
  {
   "cell_type": "markdown",
   "id": "54fe657b",
   "metadata": {},
   "source": [
    "**5. Quantas pessoas casadas possuem filhos e têm um salário acima de 3000?**"
   ]
  },
  {
   "cell_type": "code",
   "execution_count": null,
   "id": "19915e13",
   "metadata": {},
   "outputs": [],
   "source": [
    "# Insira o código aqui"
   ]
  },
  {
   "cell_type": "markdown",
   "id": "9fa98cff",
   "metadata": {},
   "source": [
    "**6. Qual é a média salarial das pessoas casadas que possuem ensino superior completo e trabalham como Fncionário do Setor Privado?**"
   ]
  },
  {
   "cell_type": "code",
   "execution_count": null,
   "id": "e2125aa6",
   "metadata": {},
   "outputs": [],
   "source": [
    "# Insira o código aqui"
   ]
  },
  {
   "cell_type": "markdown",
   "id": "0cf12b2f",
   "metadata": {},
   "source": [
    "**7. Qual estado civil possui a menor quantidade de filhos e qual é esse número?**"
   ]
  },
  {
   "cell_type": "code",
   "execution_count": null,
   "id": "9ea9d9c8",
   "metadata": {},
   "outputs": [],
   "source": [
    "# Insira o código aqui"
   ]
  },
  {
   "cell_type": "markdown",
   "id": "33195992",
   "metadata": {},
   "source": [
    "**8. Quantas pessoas casadas possuem filhos e têm um salário acima de 3000?**"
   ]
  },
  {
   "cell_type": "code",
   "execution_count": null,
   "id": "0f86cd81",
   "metadata": {},
   "outputs": [],
   "source": [
    "# Insira o código aqui"
   ]
  },
  {
   "cell_type": "markdown",
   "id": "691d71ea",
   "metadata": {},
   "source": [
    "**9. Qual é a soma das idades de todas as mulheres solteiras que residem em Santa Catarina?**"
   ]
  },
  {
   "cell_type": "code",
   "execution_count": null,
   "id": "a5d4ba89",
   "metadata": {},
   "outputs": [],
   "source": [
    "# Insira o código aqui"
   ]
  },
  {
   "cell_type": "markdown",
   "id": "1252f8a9",
   "metadata": {},
   "source": [
    "**10. Qual o estado que possui a maior média de peso?**"
   ]
  },
  {
   "cell_type": "code",
   "execution_count": null,
   "id": "d2760d12",
   "metadata": {},
   "outputs": [],
   "source": [
    "# Insira o código aqui"
   ]
  }
 ],
 "metadata": {
  "kernelspec": {
   "display_name": "puc",
   "language": "python",
   "name": "python3"
  },
  "language_info": {
   "codemirror_mode": {
    "name": "ipython",
    "version": 3
   },
   "file_extension": ".py",
   "mimetype": "text/x-python",
   "name": "python",
   "nbconvert_exporter": "python",
   "pygments_lexer": "ipython3",
   "version": "3.12.2"
  }
 },
 "nbformat": 4,
 "nbformat_minor": 5
}
