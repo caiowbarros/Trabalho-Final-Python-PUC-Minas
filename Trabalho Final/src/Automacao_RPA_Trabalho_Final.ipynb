{
 "cells": [
  {
   "cell_type": "markdown",
   "id": "3119eece",
   "metadata": {},
   "source": [
    "### Trabalho Final\n",
    "***\n",
    "- 1606881 | Bruna Mirele Martins da Silveira\n",
    "- 1606894 | Caio Wey Barros\n",
    "- 1606966 | Gustavo Matheus Santos Penedo\n",
    "***\n",
    "\n",
    "#### Objetivos de Ensino\n",
    "\n",
    "#### Exercitar os seguintes conceitos:\n",
    "1. Coleta de dados\n",
    "2. Analisar e explorar os conjuntos de dados\n",
    "3. Analisar e realizar tratamento de dados se necessário\n",
    "4. Realizar agrupamentos de dados\n",
    "5. Analisar resultados obtidos\n",
    "6. Responder as questões objetivas\n",
    "\n",
    "#### Enunciado da Atividade Prática: Análise de Dados\n",
    "\n",
    "Você foi contratado para criar uma automação de fluxo de dados completa para dados clínicos dos pacientes em um projeto de pesquisa de saúde. Seus dados incluem três conjuntos principais: dados_clinicos, dados_pacientes e dados_estados. Cada conjunto de dados possui as seguintes colunas:\n",
    "1. **dados_clinicos**: contém informações sobre os pacientes como id_cliente, peso, colesterol e ganero.\n",
    "2. **dados_pacientes**: fornece detalhes sobre os pacientes como id_cliente, idade, classe_trabalho, escolaridade, id_estado, estado_civil, raca, qtde_filhos e salario.\n",
    "3. **dados_estados**: oferece informações sobre os estados, incluindo id_estado, sigla, estado, regiao e pais.\n",
    "\n",
    "Os datasets utilizados no trabalho podem ser obtidos nesse [link](https://leandrolessa.com.br/wp-content/uploads/2024/06/dados_clinicos_pacientes.zip).\n",
    "\n",
    "#### Tarefas:"
   ]
  },
  {
   "cell_type": "code",
   "execution_count": 6,
   "id": "28b6a911",
   "metadata": {},
   "outputs": [
    {
     "data": {
      "text/plain": [
       "True"
      ]
     },
     "execution_count": 6,
     "metadata": {},
     "output_type": "execute_result"
    }
   ],
   "source": [
    "# Bibliotecas\n",
    "import pandas as pd\n",
    "import os\n",
    "from sqlalchemy import create_engine, text\n",
    "from dotenv import load_dotenv\n",
    "load_dotenv('../config/.env')"
   ]
  },
  {
   "cell_type": "markdown",
   "id": "113a3513",
   "metadata": {},
   "source": [
    "**1. Coleta de Dados**\n",
    "\n",
    "Realize a coleta de dados dos pacientes disponibilizados."
   ]
  },
  {
   "cell_type": "code",
   "execution_count": 145,
   "id": "f422515b",
   "metadata": {},
   "outputs": [],
   "source": [
    "# Coleta de dados clinicos\n",
    "df_clinicos = pd.read_csv('../datasets/dados_clinicos/dados_clinicos.csv', sep='|', encoding='latin1')\n",
    "\n",
    "# Coleta de dados estado região\n",
    "df_estado_regiao = pd.read_csv('../datasets/dados_estado_regiao/estado_regiao.csv', sep=';', encoding='latin1')\n",
    "\n",
    "# Coleta de dados pacientes\n",
    "df_pacientes = pd.read_csv('../datasets/dados_pacientes/dados_pacientes.csv', sep=';', encoding='utf-8')"
   ]
  },
  {
   "cell_type": "markdown",
   "id": "659e844c",
   "metadata": {},
   "source": [
    "**2. Integração dos Dados**\n",
    "\n",
    "Realize um inner join entre dados_clinicos, dados_pacientes e dados_estados para obter uma visão completa dos dados dos pacientes."
   ]
  },
  {
   "cell_type": "code",
   "execution_count": 146,
   "id": "64d7170c",
   "metadata": {},
   "outputs": [
    {
     "data": {
      "text/html": [
       "<div>\n",
       "<style scoped>\n",
       "    .dataframe tbody tr th:only-of-type {\n",
       "        vertical-align: middle;\n",
       "    }\n",
       "\n",
       "    .dataframe tbody tr th {\n",
       "        vertical-align: top;\n",
       "    }\n",
       "\n",
       "    .dataframe thead th {\n",
       "        text-align: right;\n",
       "    }\n",
       "</style>\n",
       "<table border=\"1\" class=\"dataframe\">\n",
       "  <thead>\n",
       "    <tr style=\"text-align: right;\">\n",
       "      <th></th>\n",
       "      <th>id_cliente</th>\n",
       "      <th>idade</th>\n",
       "      <th>classe_trabalho</th>\n",
       "      <th>escolaridade</th>\n",
       "      <th>id_estado</th>\n",
       "      <th>estado_civil</th>\n",
       "      <th>raca</th>\n",
       "      <th>qtde_filhos</th>\n",
       "      <th>salario</th>\n",
       "      <th>peso</th>\n",
       "      <th>colesterol</th>\n",
       "      <th>genero</th>\n",
       "      <th>sigla</th>\n",
       "      <th>estado</th>\n",
       "      <th>regiao</th>\n",
       "      <th>pais</th>\n",
       "    </tr>\n",
       "  </thead>\n",
       "  <tbody>\n",
       "    <tr>\n",
       "      <th>0</th>\n",
       "      <td>1</td>\n",
       "      <td>39</td>\n",
       "      <td>Servidor Público</td>\n",
       "      <td>Ensino Médio Completo</td>\n",
       "      <td>2</td>\n",
       "      <td>Solteiro</td>\n",
       "      <td>Branco</td>\n",
       "      <td>2.0</td>\n",
       "      <td>4754</td>\n",
       "      <td>152.7</td>\n",
       "      <td>203.9</td>\n",
       "      <td>Masculino</td>\n",
       "      <td>AL</td>\n",
       "      <td>Alagoas</td>\n",
       "      <td>Nordeste</td>\n",
       "      <td>Brasil</td>\n",
       "    </tr>\n",
       "    <tr>\n",
       "      <th>1</th>\n",
       "      <td>2</td>\n",
       "      <td>50</td>\n",
       "      <td>Autônomo</td>\n",
       "      <td>Superior Incompleto</td>\n",
       "      <td>24</td>\n",
       "      <td>Casado</td>\n",
       "      <td>Branco</td>\n",
       "      <td>1.0</td>\n",
       "      <td>3923</td>\n",
       "      <td>184.8</td>\n",
       "      <td>233.8</td>\n",
       "      <td>Masculino</td>\n",
       "      <td>SC</td>\n",
       "      <td>Santa Catarina</td>\n",
       "      <td>Sul</td>\n",
       "      <td>Brasil</td>\n",
       "    </tr>\n",
       "    <tr>\n",
       "      <th>2</th>\n",
       "      <td>3</td>\n",
       "      <td>38</td>\n",
       "      <td>Funcionário Setor Privado</td>\n",
       "      <td>Ensino Médio Incompleto</td>\n",
       "      <td>4</td>\n",
       "      <td>Divorciado</td>\n",
       "      <td>Branco</td>\n",
       "      <td>0.0</td>\n",
       "      <td>1100</td>\n",
       "      <td>152.1</td>\n",
       "      <td>210.4</td>\n",
       "      <td>Masculino</td>\n",
       "      <td>AM</td>\n",
       "      <td>Amazonas</td>\n",
       "      <td>Norte</td>\n",
       "      <td>Brasil</td>\n",
       "    </tr>\n",
       "    <tr>\n",
       "      <th>3</th>\n",
       "      <td>4</td>\n",
       "      <td>53</td>\n",
       "      <td>Funcionário Setor Privado</td>\n",
       "      <td>Ensino Médio Incompleto</td>\n",
       "      <td>24</td>\n",
       "      <td>Casado</td>\n",
       "      <td>Negro</td>\n",
       "      <td>1.0</td>\n",
       "      <td>1100</td>\n",
       "      <td>139.8</td>\n",
       "      <td>196.8</td>\n",
       "      <td>Masculino</td>\n",
       "      <td>SC</td>\n",
       "      <td>Santa Catarina</td>\n",
       "      <td>Sul</td>\n",
       "      <td>Brasil</td>\n",
       "    </tr>\n",
       "    <tr>\n",
       "      <th>4</th>\n",
       "      <td>5</td>\n",
       "      <td>28</td>\n",
       "      <td>Funcionário Setor Privado</td>\n",
       "      <td>Ensino Médio Completo</td>\n",
       "      <td>15</td>\n",
       "      <td>Casado</td>\n",
       "      <td>Negro</td>\n",
       "      <td>0.0</td>\n",
       "      <td>3430</td>\n",
       "      <td>182.4</td>\n",
       "      <td>215.8</td>\n",
       "      <td>Feminino</td>\n",
       "      <td>PB</td>\n",
       "      <td>Paraíba</td>\n",
       "      <td>Nordeste</td>\n",
       "      <td>Brasil</td>\n",
       "    </tr>\n",
       "  </tbody>\n",
       "</table>\n",
       "</div>"
      ],
      "text/plain": [
       "   id_cliente  idade            classe_trabalho             escolaridade  \\\n",
       "0           1     39           Servidor Público    Ensino Médio Completo   \n",
       "1           2     50                   Autônomo      Superior Incompleto   \n",
       "2           3     38  Funcionário Setor Privado  Ensino Médio Incompleto   \n",
       "3           4     53  Funcionário Setor Privado  Ensino Médio Incompleto   \n",
       "4           5     28  Funcionário Setor Privado    Ensino Médio Completo   \n",
       "\n",
       "   id_estado estado_civil    raca  qtde_filhos  salario   peso  colesterol  \\\n",
       "0          2     Solteiro  Branco          2.0     4754  152.7       203.9   \n",
       "1         24       Casado  Branco          1.0     3923  184.8       233.8   \n",
       "2          4   Divorciado  Branco          0.0     1100  152.1       210.4   \n",
       "3         24       Casado   Negro          1.0     1100  139.8       196.8   \n",
       "4         15       Casado   Negro          0.0     3430  182.4       215.8   \n",
       "\n",
       "      genero sigla          estado    regiao    pais  \n",
       "0  Masculino    AL         Alagoas  Nordeste  Brasil  \n",
       "1  Masculino    SC  Santa Catarina       Sul  Brasil  \n",
       "2  Masculino    AM        Amazonas     Norte  Brasil  \n",
       "3  Masculino    SC  Santa Catarina       Sul  Brasil  \n",
       "4   Feminino    PB         Paraíba  Nordeste  Brasil  "
      ]
     },
     "execution_count": 146,
     "metadata": {},
     "output_type": "execute_result"
    }
   ],
   "source": [
    "# Integração de dados\n",
    "df = pd.merge(\n",
    "    left = df_pacientes,\n",
    "    right = df_clinicos,\n",
    "    on = 'id_cliente',\n",
    "    how = 'inner'\n",
    ")\n",
    "\n",
    "df = pd.merge(\n",
    "    left = df,\n",
    "    right = df_estado_regiao,\n",
    "    on = 'id_estado',\n",
    "    how = 'inner'\n",
    ")\n",
    "\n",
    "df.head()"
   ]
  },
  {
   "cell_type": "markdown",
   "id": "246b77c0",
   "metadata": {},
   "source": [
    "**3. Correção dos Dados**\n",
    "\n",
    "Identifique e corrija dados inconsistentes, como valores ausentes, duplicados ou incorretos."
   ]
  },
  {
   "cell_type": "code",
   "execution_count": 147,
   "id": "a816e738",
   "metadata": {},
   "outputs": [
    {
     "data": {
      "text/html": [
       "<div>\n",
       "<style scoped>\n",
       "    .dataframe tbody tr th:only-of-type {\n",
       "        vertical-align: middle;\n",
       "    }\n",
       "\n",
       "    .dataframe tbody tr th {\n",
       "        vertical-align: top;\n",
       "    }\n",
       "\n",
       "    .dataframe thead th {\n",
       "        text-align: right;\n",
       "    }\n",
       "</style>\n",
       "<table border=\"1\" class=\"dataframe\">\n",
       "  <thead>\n",
       "    <tr style=\"text-align: right;\">\n",
       "      <th></th>\n",
       "      <th>id_cliente</th>\n",
       "      <th>idade</th>\n",
       "      <th>classe_trabalho</th>\n",
       "      <th>escolaridade</th>\n",
       "      <th>id_estado</th>\n",
       "      <th>estado_civil</th>\n",
       "      <th>raca</th>\n",
       "      <th>qtde_filhos</th>\n",
       "      <th>salario</th>\n",
       "      <th>peso</th>\n",
       "      <th>colesterol</th>\n",
       "      <th>genero</th>\n",
       "      <th>sigla</th>\n",
       "      <th>estado</th>\n",
       "      <th>regiao</th>\n",
       "      <th>pais</th>\n",
       "    </tr>\n",
       "  </thead>\n",
       "  <tbody>\n",
       "    <tr>\n",
       "      <th>0</th>\n",
       "      <td>1</td>\n",
       "      <td>39</td>\n",
       "      <td>Servidor Público</td>\n",
       "      <td>Ensino Médio Completo</td>\n",
       "      <td>2</td>\n",
       "      <td>Solteiro</td>\n",
       "      <td>Branco</td>\n",
       "      <td>2</td>\n",
       "      <td>4754</td>\n",
       "      <td>152.7</td>\n",
       "      <td>203.9</td>\n",
       "      <td>Masculino</td>\n",
       "      <td>AL</td>\n",
       "      <td>Alagoas</td>\n",
       "      <td>Nordeste</td>\n",
       "      <td>Brasil</td>\n",
       "    </tr>\n",
       "    <tr>\n",
       "      <th>1</th>\n",
       "      <td>2</td>\n",
       "      <td>50</td>\n",
       "      <td>Autônomo</td>\n",
       "      <td>Superior Incompleto</td>\n",
       "      <td>24</td>\n",
       "      <td>Casado</td>\n",
       "      <td>Branco</td>\n",
       "      <td>1</td>\n",
       "      <td>3923</td>\n",
       "      <td>184.8</td>\n",
       "      <td>233.8</td>\n",
       "      <td>Masculino</td>\n",
       "      <td>SC</td>\n",
       "      <td>Santa Catarina</td>\n",
       "      <td>Sul</td>\n",
       "      <td>Brasil</td>\n",
       "    </tr>\n",
       "    <tr>\n",
       "      <th>2</th>\n",
       "      <td>3</td>\n",
       "      <td>38</td>\n",
       "      <td>Funcionário Setor Privado</td>\n",
       "      <td>Ensino Médio Incompleto</td>\n",
       "      <td>4</td>\n",
       "      <td>Divorciado</td>\n",
       "      <td>Branco</td>\n",
       "      <td>0</td>\n",
       "      <td>1100</td>\n",
       "      <td>152.1</td>\n",
       "      <td>210.4</td>\n",
       "      <td>Masculino</td>\n",
       "      <td>AM</td>\n",
       "      <td>Amazonas</td>\n",
       "      <td>Norte</td>\n",
       "      <td>Brasil</td>\n",
       "    </tr>\n",
       "    <tr>\n",
       "      <th>3</th>\n",
       "      <td>4</td>\n",
       "      <td>53</td>\n",
       "      <td>Funcionário Setor Privado</td>\n",
       "      <td>Ensino Médio Incompleto</td>\n",
       "      <td>24</td>\n",
       "      <td>Casado</td>\n",
       "      <td>Negro</td>\n",
       "      <td>1</td>\n",
       "      <td>1100</td>\n",
       "      <td>139.8</td>\n",
       "      <td>196.8</td>\n",
       "      <td>Masculino</td>\n",
       "      <td>SC</td>\n",
       "      <td>Santa Catarina</td>\n",
       "      <td>Sul</td>\n",
       "      <td>Brasil</td>\n",
       "    </tr>\n",
       "    <tr>\n",
       "      <th>4</th>\n",
       "      <td>5</td>\n",
       "      <td>28</td>\n",
       "      <td>Funcionário Setor Privado</td>\n",
       "      <td>Ensino Médio Completo</td>\n",
       "      <td>15</td>\n",
       "      <td>Casado</td>\n",
       "      <td>Negro</td>\n",
       "      <td>0</td>\n",
       "      <td>3430</td>\n",
       "      <td>182.4</td>\n",
       "      <td>215.8</td>\n",
       "      <td>Feminino</td>\n",
       "      <td>PB</td>\n",
       "      <td>Paraíba</td>\n",
       "      <td>Nordeste</td>\n",
       "      <td>Brasil</td>\n",
       "    </tr>\n",
       "  </tbody>\n",
       "</table>\n",
       "</div>"
      ],
      "text/plain": [
       "   id_cliente  idade            classe_trabalho             escolaridade  \\\n",
       "0           1     39           Servidor Público    Ensino Médio Completo   \n",
       "1           2     50                   Autônomo      Superior Incompleto   \n",
       "2           3     38  Funcionário Setor Privado  Ensino Médio Incompleto   \n",
       "3           4     53  Funcionário Setor Privado  Ensino Médio Incompleto   \n",
       "4           5     28  Funcionário Setor Privado    Ensino Médio Completo   \n",
       "\n",
       "   id_estado estado_civil    raca  qtde_filhos  salario   peso  colesterol  \\\n",
       "0          2     Solteiro  Branco            2     4754  152.7       203.9   \n",
       "1         24       Casado  Branco            1     3923  184.8       233.8   \n",
       "2          4   Divorciado  Branco            0     1100  152.1       210.4   \n",
       "3         24       Casado   Negro            1     1100  139.8       196.8   \n",
       "4         15       Casado   Negro            0     3430  182.4       215.8   \n",
       "\n",
       "      genero sigla          estado    regiao    pais  \n",
       "0  Masculino    AL         Alagoas  Nordeste  Brasil  \n",
       "1  Masculino    SC  Santa Catarina       Sul  Brasil  \n",
       "2  Masculino    AM        Amazonas     Norte  Brasil  \n",
       "3  Masculino    SC  Santa Catarina       Sul  Brasil  \n",
       "4   Feminino    PB         Paraíba  Nordeste  Brasil  "
      ]
     },
     "execution_count": 147,
     "metadata": {},
     "output_type": "execute_result"
    }
   ],
   "source": [
    "# Remoção de duplicados\n",
    "df = df.drop_duplicates()\n",
    "\n",
    "# Cálculo de moda e mediana\n",
    "mediana_peso = df['peso'].median().round(2)\n",
    "moda_genero = df['genero'].mode()\n",
    "moda_classe_trabalho = df['classe_trabalho'].mode()\n",
    "mediana_qtde_filhos = int(df['qtde_filhos'].median())\n",
    "\n",
    "# Correção de valores ausentes\n",
    "df['peso'] = df['peso'].fillna(value=mediana_peso)\n",
    "df['genero'] = df['genero'].fillna(value=moda_genero[0])\n",
    "df['classe_trabalho'] = df['classe_trabalho'].fillna(value=moda_classe_trabalho[0])\n",
    "df['qtde_filhos'] = df['qtde_filhos'].fillna(value=mediana_qtde_filhos)\n",
    "\n",
    "# Correção de valores incorretos\n",
    "df['peso'] = df['peso'].round(2)\n",
    "df['colesterol'] = df['colesterol'].round(2)\n",
    "df['qtde_filhos'] = df['qtde_filhos'].astype(int)\n",
    "\n",
    "df.head()"
   ]
  },
  {
   "cell_type": "markdown",
   "id": "e9a3c4c4",
   "metadata": {},
   "source": [
    "**4. Armazenamento de Dados**\n",
    "\n",
    "Desenvolva o diagrama de entidade-relacionamento entre as tabelas e persista os dados no banco de dados MySQL."
   ]
  },
  {
   "cell_type": "code",
   "execution_count": 8,
   "id": "47a2cb23",
   "metadata": {},
   "outputs": [
    {
     "name": "stdout",
     "output_type": "stream",
     "text": [
      "Conexão realizada com sucesso!\n",
      "Banco de dados criado com sucesso!\n",
      "Tabelas criadas com sucesso!\n"
     ]
    }
   ],
   "source": [
    "# Conexão com o banco de dados\n",
    "def conectar_banco_mysql():\n",
    "    try:\n",
    "        user = os.environ['user_db']\n",
    "        password = os.environ['password_db']\n",
    "        host = os.environ['host']\n",
    "        conexao = f'mysql://{user}:{password}@{host}'\n",
    "        engine = create_engine(conexao)\n",
    "        conn = engine.connect()\n",
    "        print('Conexão realizada com sucesso!')\n",
    "        return conn\n",
    "    except Exception as e:\n",
    "        print(f'Não foi possível fazer conexão com o banco de dados. ERRO: {e}')\n",
    "\n",
    "# Validação da conexão com o servidor de banco de dados\n",
    "conn = conectar_banco_mysql()\n",
    "\n",
    "# Criação do banco de dados\n",
    "try:\n",
    "    database = 'pacientes'\n",
    "    query = f'create schema if not exists {database}'\n",
    "    conn.execute(text(query))\n",
    "    print('Banco de dados criado com sucesso!')\n",
    "    conn.commit()\n",
    "except Exception as e:\n",
    "    print(f'Não foi possível criar o banco de dados. ERRO: {e}')\n",
    "\n",
    "# Execução do script de criação das tabelas e seus relacionamentos\n",
    "with open('../script_DB/create_database_paciente.sql', 'r') as file:\n",
    "    query = file.read()\n",
    "\n",
    "    try:\n",
    "        conn.execute(text(query))\n",
    "        print('Tabelas criadas com sucesso!')\n",
    "        conn.commit()\n",
    "    except Exception as e:\n",
    "        print(f'Não foi possível criar as tabelas. ERRO: {e}')\n",
    "\n",
    "# Inserção de registros no banco de dados\n",
    "def inserir_dados_tabelas(lista_dados, nome_tabela):\n",
    "    coluna_tabela = nome_tabela[3:]\n",
    "\n",
    "    for registro in lista_dados:\n",
    "        try:\n",
    "            query = f'''\n",
    "                INSERT INTO {nome_tabela} ({coluna_tabela})\n",
    "                VALUES (\"{registro}\")\n",
    "            '''\n",
    "            conn.execute(text(query))\n",
    "            conn.commit()\n",
    "            print(f'Registro inserido com sucesso: {registro}')\n",
    "        except Exception as e:\n",
    "            print(f'Não foi possível inserir o registro: {registro}. ERRO: {e}')\n",
    "            conn.rollback()"
   ]
  },
  {
   "cell_type": "markdown",
   "id": "68d132a4",
   "metadata": {},
   "source": [
    "**5. Consultas SQL**\n",
    "\n",
    "Após o armazenamento dos dados, responda às perguntas do questionário utilizando SQL."
   ]
  },
  {
   "cell_type": "code",
   "execution_count": null,
   "id": "de25d18f",
   "metadata": {},
   "outputs": [
    {
     "name": "stdout",
     "output_type": "stream",
     "text": [
      "Registro inserido com sucesso: Servidor Público\n",
      "Registro inserido com sucesso: Autônomo\n",
      "Registro inserido com sucesso: Funcionário Setor Privado\n",
      "Registro inserido com sucesso: Funcionário Público\n",
      "Registro inserido com sucesso: Empresário\n",
      "Registro inserido com sucesso: Estagiário\n",
      "Registro inserido com sucesso: Desempregado\n",
      "Registro inserido com sucesso: MEI\n",
      "Registro inserido com sucesso: Aposentado\n",
      "Registro inserido com sucesso: Menor Aprendiz\n",
      "Registro inserido com sucesso: Ensino Médio Completo\n",
      "Registro inserido com sucesso: Superior Incompleto\n",
      "Registro inserido com sucesso: Ensino Médio Incompleto\n",
      "Registro inserido com sucesso: Mestrado\n",
      "Registro inserido com sucesso: Ensino Fundamental Completo\n",
      "Registro inserido com sucesso: Superior Completo\n",
      "Registro inserido com sucesso: Pós-Graduado\n",
      "Registro inserido com sucesso: Ensino Fundamental Incompleto\n",
      "Registro inserido com sucesso: Doutorado\n",
      "Registro inserido com sucesso: Analfabeto\n",
      "Registro inserido com sucesso: Branco\n",
      "Registro inserido com sucesso: Negro\n",
      "Registro inserido com sucesso: Pardo\n",
      "Registro inserido com sucesso: Indígena\n",
      "Registro inserido com sucesso: Amarelo\n",
      "Registro inserido com sucesso: Solteiro\n",
      "Registro inserido com sucesso: Casado\n",
      "Registro inserido com sucesso: Divorciado\n",
      "Registro inserido com sucesso: União Estável\n",
      "Registro inserido com sucesso: Separado\n",
      "Registro inserido com sucesso: Viúvo\n",
      "Dados inseridos com sucesso!\n"
     ]
    }
   ],
   "source": [
    "# Listas\n",
    "lista_classe_trabalho = df['classe_trabalho'].unique()\n",
    "lista_escolaridade = df['escolaridade'].unique()\n",
    "lista_raca = df['raca'].unique()\n",
    "lista_estado_civil = df['estado_civil'].unique()\n",
    "\n",
    "lista_insert = [\n",
    "    ('tb_classe_trabalho', lista_classe_trabalho),\n",
    "    ('tb_escolaridade', lista_escolaridade),\n",
    "    ('tb_raca', lista_raca),\n",
    "    ('tb_estado_civil', lista_estado_civil)\n",
    "]\n",
    "\n",
    "# Inserção dos dados nas tabelas\n",
    "for tabela, dados in lista_insert:\n",
    "    inserir_dados_tabelas(\n",
    "        lista_dados = dados,\n",
    "        nome_tabela = tabela\n",
    "    )\n",
    "\n",
    "# Dados estados\n",
    "colunas = df_estado_regiao.columns.to_list()\n",
    "\n",
    "dados_estados = df[colunas].drop_duplicates()\n",
    "\n",
    "# Inserção dos dados estados na tabela\n",
    "for registro in dados_estados.itertuples():\n",
    "    cod_estado = registro.id_estado\n",
    "    estado = registro.estado\n",
    "    sigla = registro.sigla\n",
    "    regiao = registro.regiao\n",
    "    pais = registro.pais\n",
    "\n",
    "    try:\n",
    "        query = f'''\n",
    "            INSERT INTO TB_ESTADO (cod_estado, estado, sigla, regiao, pais)\n",
    "            VALUES ({cod_estado}, \"{estado}\", \"{sigla}\", \"{regiao}\", \"{pais}\")\n",
    "        '''\n",
    "        conn.execute(text(query))\n",
    "        conn.commit()\n",
    "    except Exception as e:\n",
    "        print(f\"Não foi possível inserir o registro {registro}. ERRO: {e}\")\n",
    "        conn.rollback()\n",
    "\n",
    "# Criação da tabela stage\n",
    "try:\n",
    "    df.to_sql(\n",
    "        name=\"stg_pacientes\",\n",
    "        con=conn,\n",
    "        schema=\"pacientes\",\n",
    "        index=False\n",
    "    )\n",
    "except Exception as e:\n",
    "    print(f\"Não foi possível inserir os dados na tabela. ERRO: {e}\")\n",
    "\n",
    "# Inserção dos dados paciente na tabela\n",
    "query = f\"\"\"\n",
    "INSERT INTO tb_paciente (\n",
    "    cod_paciente,\n",
    "    cod_estado_civil,\n",
    "    cod_raca,\n",
    "    cod_escolaridade,\n",
    "    cod_classe_trabalho,\n",
    "    cod_estado,\n",
    "    genero,\n",
    "    idade,\n",
    "    qtd_filho,\n",
    "    salario,\n",
    "    peso,\n",
    "    colesterol\n",
    ")\n",
    "\n",
    "(\n",
    "SELECT pac.id_cliente,\n",
    "    eci.cod_estado_civil,\n",
    "    rac.cod_raca,\n",
    "    esc.cod_escolaridade,\n",
    "    ctr.cod_classe_trabalho,\n",
    "    est.cod_estado,\n",
    "    pac.genero,\n",
    "    pac.idade,\n",
    "    pac.qtde_filhos,\n",
    "    pac.salario,\n",
    "    pac.peso,\n",
    "    pac.colesterol\n",
    "FROM stg_pacientes AS pac\n",
    "INNER JOIN tb_estado_civil AS eci ON eci.estado_civil = pac.estado_civil\n",
    "INNER JOIN tb_raca AS rac ON rac.raca = pac.raca\n",
    "INNER JOIN tb_escolaridade AS esc ON esc.escolaridade = pac.escolaridade\n",
    "INNER JOIN tb_classe_trabalho AS ctr ON ctr.classe_trabalho = pac.classe_trabalho\n",
    "INNER JOIN tb_estado AS est ON est.estado = pac.estado\n",
    ")\n",
    "\"\"\"\n",
    "try:\n",
    "    conn.execute(text(query))\n",
    "    conn.commit()\n",
    "    print(\"Dados inseridos com sucesso!\")\n",
    "except Exception as e:\n",
    "    print(f\"Não foi possível inserir os dados na tabela. ERRO: {e}\")\n",
    "    conn.rollback()"
   ]
  },
  {
   "cell_type": "markdown",
   "id": "a6eb06c7",
   "metadata": {},
   "source": [
    "#### **ATENÇÃO PARA TRATAMENTO DE DADOS**\n",
    "\n",
    "Avaliem se será necessário realizar tratamento de dados ausentes nos datasets disponibilizados.\n",
    "\n",
    "**Instruções para correção de dados ausentes**\n",
    "\n",
    "- Moda para Variáveis Categóricas: Preencher valores ausentes nas colunas categóricas com a moda.\n",
    "- Mediana para Variáveis Numéricas: Preencher valores ausentes nas colunas numéricas com a mediana.\n",
    "\n",
    "#### Utilize o diagrama de entidade e relacionamento\n",
    "\n",
    "![Diagrama de entidade e relacionamento](../doc/Diagrama%20de%20Entidade%20e%20Relacionamento.png)\n",
    "\n",
    "#### Dicas do professor:\n",
    "\n",
    "1. Antes de finalizar suas respostas, certifique-se de verificar se o gabarito está corretamente preenchido.\n",
    "2. Preste atenção aos requisitos específicos de cada questão para garantir uma resposta adequada.\n",
    "3. Elimine dados duplicados.\n",
    "4. Lembre-se de que os dados fornecidos nos datasets são fictícios e não refletem dados do mundo real.\n",
    "5. Siga rigorosamente todas as etapas descritas no enunciado das questões para uma análise completa e precisa."
   ]
  },
  {
   "cell_type": "markdown",
   "id": "bb7b43b3",
   "metadata": {},
   "source": [
    "#### Perguntas do Trabalho"
   ]
  },
  {
   "cell_type": "markdown",
   "id": "aea4e686",
   "metadata": {},
   "source": [
    "**1. Qual é a média e o desvio padrão do colesterol das pessoas que têm peso superior a 120kg e residem na região Sul do Brasil?**"
   ]
  },
  {
   "cell_type": "code",
   "execution_count": null,
   "id": "101ae8d7",
   "metadata": {},
   "outputs": [
    {
     "name": "stdout",
     "output_type": "stream",
     "text": [
      "   media_colesterol  desvio_padrao_colesterol\n",
      "0        206.955385                 21.866546\n"
     ]
    }
   ],
   "source": [
    "query = '''\n",
    "SELECT AVG(pac.colesterol) AS media_colesterol,\n",
    "\tSTDDEV_POP(pac.colesterol) AS desvio_padrao_colesterol\n",
    "FROM tb_paciente as pac\n",
    "INNER JOIN tb_estado AS est ON est.cod_estado = pac.cod_estado\n",
    "WHERE pac.peso > 120\n",
    "AND est.regiao = \"Sul\"\n",
    "'''\n",
    "\n",
    "try:\n",
    "    result = pd.read_sql_query(query, conn)\n",
    "    print(result)\n",
    "except Exception as e:\n",
    "    print('Não foi possível executar a query. ERRO: {e}')"
   ]
  },
  {
   "cell_type": "code",
   "execution_count": null,
   "id": "a2149317",
   "metadata": {
    "vscode": {
     "languageId": "sql"
    }
   },
   "outputs": [],
   "source": [
    "SELECT AVG(pac.colesterol) AS media_colesterol,\n",
    "\tSTDDEV_POP(pac.colesterol) AS desvio_padrao_colesterol\n",
    "FROM tb_paciente as pac\n",
    "INNER JOIN tb_estado AS est ON est.cod_estado = pac.cod_estado\n",
    "WHERE pac.peso > 120\n",
    "AND est.regiao = \"Sul\""
   ]
  },
  {
   "cell_type": "markdown",
   "id": "e5e8b681",
   "metadata": {},
   "source": [
    "**2. Qual é a classe de trabalho com maior número de pessoas e qual é o número correspondente na base de dados?**"
   ]
  },
  {
   "cell_type": "code",
   "execution_count": null,
   "id": "a3037d0e",
   "metadata": {
    "vscode": {
     "languageId": "sql"
    }
   },
   "outputs": [],
   "source": [
    "SELECT ctr.classe_trabalho,\n",
    "    COUNT(1) AS numero_pessoas\n",
    "FROM tb_paciente AS pac\n",
    "INNER JOIN tb_classe_trabalho AS ctr ON ctr.cod_classe_trabalho = pac.cod_classe_trabalho\n",
    "GROUP BY ctr.classe_trabalho\n",
    "ORDER BY numero_pessoas DESC\n",
    "LIMIT 1"
   ]
  },
  {
   "cell_type": "markdown",
   "id": "ce1365ac",
   "metadata": {},
   "source": [
    "**3. Qual é a classe de trabalho que apresenta a maior média de salários e qual é o valor associado para as pessoas do estado de Pernambuco?**"
   ]
  },
  {
   "cell_type": "code",
   "execution_count": null,
   "id": "d27ca032",
   "metadata": {
    "vscode": {
     "languageId": "sql"
    }
   },
   "outputs": [],
   "source": [
    "-- Classe de trabalho com maior média de salários\n",
    "SELECT AVG(pac.salario) AS media_salario,\n",
    "\tctr.classe_trabalho\n",
    "FROM tb_paciente AS pac\n",
    "INNER JOIN tb_classe_trabalho AS ctr ON ctr.cod_classe_trabalho = pac.cod_classe_trabalho\n",
    "GROUP BY ctr.classe_trabalho\n",
    "LIMIT 1\n",
    "\n",
    "-- Valor associado para as pessoas do estado de Pernambuco\n",
    "SELECT AVG(pac.salario) AS media_salario,\n",
    "    est.estado\n",
    "FROM tb_paciente AS pac\n",
    "INNER JOIN tb_estado AS est ON est.cod_estado = pac.cod_estado\n",
    "WHERE est.estado = \"Pernambuco\""
   ]
  },
  {
   "cell_type": "markdown",
   "id": "0725d31c",
   "metadata": {},
   "source": [
    "**4. Qual estado civil possui a menor quantidade de filhos e qual é esse número?**"
   ]
  },
  {
   "cell_type": "code",
   "execution_count": null,
   "id": "71e89047",
   "metadata": {
    "vscode": {
     "languageId": "sql"
    }
   },
   "outputs": [],
   "source": [
    "SELECT SUM(pac.qtd_filho) AS quantidade_filhos,\n",
    "\teci.estado_civil\n",
    "FROM tb_paciente AS pac\n",
    "INNER JOIN tb_estado_civil AS eci ON eci.cod_estado_civil = pac.cod_estado_civil\n",
    "GROUP BY eci.estado_civil\n",
    "ORDER BY quantidade_filhos\n",
    "LIMIT 1"
   ]
  },
  {
   "cell_type": "markdown",
   "id": "54fe657b",
   "metadata": {},
   "source": [
    "**5. Quantas pessoas casadas possuem filhos e têm um salário acima de 3000?**"
   ]
  },
  {
   "cell_type": "code",
   "execution_count": null,
   "id": "19915e13",
   "metadata": {
    "vscode": {
     "languageId": "sql"
    }
   },
   "outputs": [],
   "source": [
    "SELECT COUNT(1) AS numero_pessoas\n",
    "FROM tb_paciente AS pac\n",
    "INNER JOIN tb_estado_civil AS eci ON eci.cod_estado_civil = pac.cod_estado_civil\n",
    "WHERE eci.estado_civil = \"Casado\"\n",
    "AND pac.qtd_filho > 0\n",
    "AND pac.salario > 3000"
   ]
  },
  {
   "cell_type": "markdown",
   "id": "9fa98cff",
   "metadata": {},
   "source": [
    "**6. Qual é a média salarial das pessoas casadas que possuem ensino superior completo e trabalham como Funcionário do Setor Privado?**"
   ]
  },
  {
   "cell_type": "code",
   "execution_count": null,
   "id": "e2125aa6",
   "metadata": {
    "vscode": {
     "languageId": "sql"
    }
   },
   "outputs": [],
   "source": [
    "SELECT AVG(pac.salario) AS media_salario\n",
    "FROM tb_paciente AS pac\n",
    "INNER JOIN tb_estado_civil AS eci ON eci.cod_estado_civil = pac.cod_estado_civil\n",
    "INNER JOIN tb_escolaridade AS esc ON esc.cod_escolaridade = pac.cod_escolaridade\n",
    "INNER JOIN tb_classe_trabalho AS ctr ON ctr.cod_classe_trabalho = pac.cod_classe_trabalho\n",
    "WHERE eci.estado_civil = \"Casado\"\n",
    "AND esc.escolaridade = \"Superior Completo\"\n",
    "AND ctr.classe_trabalho = \"Funcionário Setor Privado\""
   ]
  },
  {
   "cell_type": "markdown",
   "id": "0cf12b2f",
   "metadata": {},
   "source": [
    "**7. Qual estado civil possui a menor quantidade de filhos e qual é esse número?**"
   ]
  },
  {
   "cell_type": "code",
   "execution_count": null,
   "id": "9ea9d9c8",
   "metadata": {
    "vscode": {
     "languageId": "sql"
    }
   },
   "outputs": [],
   "source": [
    "-- REPETIDA"
   ]
  },
  {
   "cell_type": "markdown",
   "id": "33195992",
   "metadata": {},
   "source": [
    "**8. Quantas pessoas casadas possuem filhos e têm um salário acima de 3000?**"
   ]
  },
  {
   "cell_type": "code",
   "execution_count": null,
   "id": "0f86cd81",
   "metadata": {
    "vscode": {
     "languageId": "sql"
    }
   },
   "outputs": [],
   "source": [
    "SELECT COUNT(1)\n",
    "FROM tb_paciente AS pac\n",
    "INNER JOIN tb_estado_civil AS eci ON eci.cod_estado_civil = pac.cod_estado_civil\n",
    "WHERE eci.estado_civil = \"Casado\"\n",
    "AND pac.qtd_filho > 0\n",
    "AND pac.salario > 3000"
   ]
  },
  {
   "cell_type": "markdown",
   "id": "691d71ea",
   "metadata": {},
   "source": [
    "**9. Qual é a soma das idades de todas as mulheres solteiras que residem em Santa Catarina?**"
   ]
  },
  {
   "cell_type": "code",
   "execution_count": null,
   "id": "a5d4ba89",
   "metadata": {
    "vscode": {
     "languageId": "sql"
    }
   },
   "outputs": [],
   "source": [
    "SELECT pac.genero,\n",
    "\teci.estado_civil,\n",
    "    est.estado,\n",
    "    SUM(pac.idade)\n",
    "FROM tb_paciente AS pac\n",
    "INNER JOIN tb_estado_civil AS eci ON eci.cod_estado_civil = pac.cod_estado_civil\n",
    "INNER JOIN tb_estado AS est ON est.cod_estado = pac.cod_estado\n",
    "WHERE pac.genero = \"Feminino\"\n",
    "AND eci.estado_civil = \"Solteiro\"\n",
    "AND est.estado = \"Santa Catarina\""
   ]
  },
  {
   "cell_type": "markdown",
   "id": "1252f8a9",
   "metadata": {},
   "source": [
    "**10. Qual o estado que possui a maior média de peso?**"
   ]
  },
  {
   "cell_type": "code",
   "execution_count": null,
   "id": "d2760d12",
   "metadata": {
    "vscode": {
     "languageId": "sql"
    }
   },
   "outputs": [],
   "source": [
    "SELECT est.estado,\n",
    "\tAVG(pac.peso) AS media_peso\n",
    "FROM tb_paciente AS pac\n",
    "INNER JOIN tb_estado AS est ON est.cod_estado = pac.cod_estado\n",
    "GROUP BY est.estado\n",
    "ORDER BY media_peso DESC\n",
    "LIMIT 1"
   ]
  }
 ],
 "metadata": {
  "kernelspec": {
   "display_name": "puc",
   "language": "python",
   "name": "python3"
  },
  "language_info": {
   "codemirror_mode": {
    "name": "ipython",
    "version": 3
   },
   "file_extension": ".py",
   "mimetype": "text/x-python",
   "name": "python",
   "nbconvert_exporter": "python",
   "pygments_lexer": "ipython3",
   "version": "3.12.2"
  }
 },
 "nbformat": 4,
 "nbformat_minor": 5
}
